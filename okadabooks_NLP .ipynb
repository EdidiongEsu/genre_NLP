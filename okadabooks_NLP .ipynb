{
 "cells": [
  {
   "cell_type": "markdown",
   "metadata": {},
   "source": [
    "# Similarity between genres of books"
   ]
  },
  {
   "cell_type": "markdown",
   "metadata": {},
   "source": [
    "### Importing of Libraries and Reading of Data"
   ]
  },
  {
   "cell_type": "code",
   "execution_count": 1,
   "metadata": {},
   "outputs": [],
   "source": [
    "import re\n",
    "import os\n",
    "import string\n",
    "import numpy as np\n",
    "import pandas as pd\n",
    "import matplotlib.pyplot as plt\n",
    "\n",
    "from itertools import repeat\n",
    "from sklearn.feature_extraction import stop_words\n",
    "from collections import Counter\n",
    "from operator import itemgetter\n",
    "\n",
    "\n",
    "pd.set_option('display.max_colwidth', -1)"
   ]
  },
  {
   "cell_type": "code",
   "execution_count": 2,
   "metadata": {},
   "outputs": [],
   "source": [
    "df= pd.read_csv('okadabooks_main.csv')"
   ]
  },
  {
   "cell_type": "code",
   "execution_count": 3,
   "metadata": {},
   "outputs": [
    {
     "name": "stdout",
     "output_type": "stream",
     "text": [
      "<class 'pandas.core.frame.DataFrame'>\n",
      "RangeIndex: 14803 entries, 0 to 14802\n",
      "Data columns (total 9 columns):\n",
      "Unnamed: 0    14803 non-null int64\n",
      "Title         14803 non-null object\n",
      "Author        14803 non-null object\n",
      "Genre         14803 non-null object\n",
      "Price         14803 non-null int64\n",
      "Reads         14803 non-null int64\n",
      "Ratings       14803 non-null float64\n",
      "Booklink      14803 non-null object\n",
      "Blurb         14802 non-null object\n",
      "dtypes: float64(1), int64(3), object(5)\n",
      "memory usage: 1.0+ MB\n"
     ]
    }
   ],
   "source": [
    "df.info()"
   ]
  },
  {
   "cell_type": "code",
   "execution_count": 4,
   "metadata": {},
   "outputs": [],
   "source": [
    "df=df.dropna()\n",
    "df= df.drop(columns= 'Unnamed: 0')"
   ]
  },
  {
   "cell_type": "markdown",
   "metadata": {},
   "source": [
    "### Dropping duplicated Blurbs\n",
    "\n",
    "**<u>Definition of Blurb: </u>**  \n",
    "A blurb is a short description of a book, film, or other product written for promotional purposes."
   ]
  },
  {
   "cell_type": "markdown",
   "metadata": {},
   "source": [
    "Dropping blurb duplicates to increase accuracy of result. An example of what can cause a duplicated blurb is when an author publishes a preview of a novel and the novel itself (both at different Prices) with the same Blurb. All duplicates are in the same category with the original."
   ]
  },
  {
   "cell_type": "markdown",
   "metadata": {},
   "source": [
    "**N/B: In this notebook, THE words \"category\" and \"genre\" of books will be used interchangeably.**"
   ]
  },
  {
   "cell_type": "code",
   "execution_count": 5,
   "metadata": {},
   "outputs": [],
   "source": [
    "df= df.drop_duplicates(subset=['Blurb'], keep= 'first')"
   ]
  },
  {
   "cell_type": "code",
   "execution_count": 6,
   "metadata": {},
   "outputs": [
    {
     "data": {
      "text/plain": [
       "14395"
      ]
     },
     "execution_count": 6,
     "metadata": {},
     "output_type": "execute_result"
    }
   ],
   "source": [
    "len(df)"
   ]
  },
  {
   "cell_type": "markdown",
   "metadata": {},
   "source": [
    "### Normalizing the blurb "
   ]
  },
  {
   "cell_type": "markdown",
   "metadata": {},
   "source": [
    "Normalizing of the blurb column by getting rid of special characters and changing all letters to lower cases. All functions will be done on the norm_blurb column"
   ]
  },
  {
   "cell_type": "code",
   "execution_count": 7,
   "metadata": {},
   "outputs": [],
   "source": [
    "df['norm_blurb']= df.Blurb\n",
    "df.norm_blurb= df.norm_blurb.astype(str)"
   ]
  },
  {
   "cell_type": "code",
   "execution_count": 8,
   "metadata": {},
   "outputs": [],
   "source": [
    "## change all capital letters to small letters\n",
    "df.norm_blurb= df.norm_blurb.apply(lambda x: x.lower())\n",
    "df['norm_blurb'] = df.norm_blurb.map(lambda x: x.replace('\\r\\r\\r\\r\\n', ' '))\n",
    "df['norm_blurb'] = df.norm_blurb.map(lambda x: x.replace('.', ' '))\n",
    "df['norm_blurb'] = df.norm_blurb.map(lambda x: x.translate(str.maketrans('', '', string.punctuation)))\n",
    "df['norm_blurb'] = df.norm_blurb.map(lambda x: x.replace('  ', ' '))\n",
    "df['norm_blurb'] = df.norm_blurb.map(lambda x: re.sub(r'[^\\w]', ' ', x)) ##takes care of anything not alpha numeric like symbols ❤️ [14783]\n",
    "df['norm_blurb'] = df.norm_blurb.map(lambda x: x.translate(str.maketrans('', '', string.digits)))"
   ]
  },
  {
   "cell_type": "code",
   "execution_count": 9,
   "metadata": {},
   "outputs": [
    {
     "data": {
      "text/html": [
       "<div>\n",
       "<style scoped>\n",
       "    .dataframe tbody tr th:only-of-type {\n",
       "        vertical-align: middle;\n",
       "    }\n",
       "\n",
       "    .dataframe tbody tr th {\n",
       "        vertical-align: top;\n",
       "    }\n",
       "\n",
       "    .dataframe thead th {\n",
       "        text-align: right;\n",
       "    }\n",
       "</style>\n",
       "<table border=\"1\" class=\"dataframe\">\n",
       "  <thead>\n",
       "    <tr style=\"text-align: right;\">\n",
       "      <th></th>\n",
       "      <th>Title</th>\n",
       "      <th>Author</th>\n",
       "      <th>Genre</th>\n",
       "      <th>Price</th>\n",
       "      <th>Reads</th>\n",
       "      <th>Ratings</th>\n",
       "      <th>Booklink</th>\n",
       "      <th>Blurb</th>\n",
       "      <th>norm_blurb</th>\n",
       "    </tr>\n",
       "  </thead>\n",
       "  <tbody>\n",
       "    <tr>\n",
       "      <th>0</th>\n",
       "      <td>the long walk</td>\n",
       "      <td>Milton J Davis</td>\n",
       "      <td>science_fiction</td>\n",
       "      <td>360</td>\n",
       "      <td>0</td>\n",
       "      <td>0.0</td>\n",
       "      <td>https://okadabooks.com/book/about/the_long_walk/29737</td>\n",
       "      <td>Patience de Verteuil left her home in Trinidad with her father for what she thought would be a short journey to America. Instead she finds herself embroiled in a struggle between powerful supernatural forces, in which an object in her possession means the difference between defeat or victory. The Long Walk is a Steamfunk tale that will stay with you long after the final words are read.</td>\n",
       "      <td>patience de verteuil left her home in trinidad with her father for what she thought would be a short journey to america instead she finds herself embroiled in a struggle between powerful supernatural forces in which an object in her possession means the difference between defeat or victory the long walk is a steamfunk tale that will stay with you long after the final words are read</td>\n",
       "    </tr>\n",
       "    <tr>\n",
       "      <th>1</th>\n",
       "      <td>bilisi: rebirth of the orisha #1.</td>\n",
       "      <td>Tomi Adegbite.</td>\n",
       "      <td>science_fiction</td>\n",
       "      <td>1500</td>\n",
       "      <td>0</td>\n",
       "      <td>0.0</td>\n",
       "      <td>https://okadabooks.com/book/about/bilisi_rebirth_of_the_orisha_1/29663</td>\n",
       "      <td>Enter a world or two of pure fantasy and wonder, as Bilisi Soneye discovers herself in more than one reality.</td>\n",
       "      <td>enter a world or two of pure fantasy and wonder as bilisi soneye discovers herself in more than one reality</td>\n",
       "    </tr>\n",
       "  </tbody>\n",
       "</table>\n",
       "</div>"
      ],
      "text/plain": [
       "                               Title          Author            Genre  Price  \\\n",
       "0  the long walk                      Milton J Davis  science_fiction  360     \n",
       "1  bilisi: rebirth of the orisha #1.  Tomi Adegbite.  science_fiction  1500    \n",
       "\n",
       "   Reads  Ratings  \\\n",
       "0  0      0.0       \n",
       "1  0      0.0       \n",
       "\n",
       "                                                                 Booklink  \\\n",
       "0  https://okadabooks.com/book/about/the_long_walk/29737                    \n",
       "1  https://okadabooks.com/book/about/bilisi_rebirth_of_the_orisha_1/29663   \n",
       "\n",
       "                                                                                                                                                                                                                                                                                                                                                                                                  Blurb  \\\n",
       "0  Patience de Verteuil left her home in Trinidad with her father for what she thought would be a short journey to America. Instead she finds herself embroiled in a struggle between powerful supernatural forces, in which an object in her possession means the difference between defeat or victory. The Long Walk is a Steamfunk tale that will stay with you long after the final words are read.   \n",
       "1  Enter a world or two of pure fantasy and wonder, as Bilisi Soneye discovers herself in more than one reality.                                                                                                                                                                                                                                                                                          \n",
       "\n",
       "                                                                                                                                                                                                                                                                                                                                                                                          norm_blurb  \n",
       "0  patience de verteuil left her home in trinidad with her father for what she thought would be a short journey to america instead she finds herself embroiled in a struggle between powerful supernatural forces in which an object in her possession means the difference between defeat or victory the long walk is a steamfunk tale that will stay with you long after the final words are read   \n",
       "1  enter a world or two of pure fantasy and wonder as bilisi soneye discovers herself in more than one reality                                                                                                                                                                                                                                                                                        "
      ]
     },
     "execution_count": 9,
     "metadata": {},
     "output_type": "execute_result"
    }
   ],
   "source": [
    "df.head(2)"
   ]
  },
  {
   "cell_type": "code",
   "execution_count": 10,
   "metadata": {},
   "outputs": [
    {
     "name": "stdout",
     "output_type": "stream",
     "text": [
      "<class 'pandas.core.frame.DataFrame'>\n",
      "Int64Index: 14395 entries, 0 to 14802\n",
      "Data columns (total 9 columns):\n",
      "Title         14395 non-null object\n",
      "Author        14395 non-null object\n",
      "Genre         14395 non-null object\n",
      "Price         14395 non-null int64\n",
      "Reads         14395 non-null int64\n",
      "Ratings       14395 non-null float64\n",
      "Booklink      14395 non-null object\n",
      "Blurb         14395 non-null object\n",
      "norm_blurb    14395 non-null object\n",
      "dtypes: float64(1), int64(2), object(6)\n",
      "memory usage: 1.1+ MB\n"
     ]
    }
   ],
   "source": [
    "df.info()"
   ]
  },
  {
   "cell_type": "code",
   "execution_count": 11,
   "metadata": {},
   "outputs": [
    {
     "name": "stdout",
     "output_type": "stream",
     "text": [
      "The total number of words in the norm_blurb column is  1.119537  Million\n"
     ]
    }
   ],
   "source": [
    "print('The total number of words in the norm_blurb column is ', sum(df.norm_blurb.map(lambda x: len(x.split())))/ 1000000,\" Million\")"
   ]
  },
  {
   "cell_type": "markdown",
   "metadata": {},
   "source": [
    "There are 1M+ words left after special characters, punctuation and numbers have been removed from the normalized blurb column. The words will then be used to check similarity metrics between genres. "
   ]
  },
  {
   "cell_type": "markdown",
   "metadata": {},
   "source": [
    "## Selection of the genres to be used"
   ]
  },
  {
   "cell_type": "markdown",
   "metadata": {},
   "source": [
    "In okadabooks.com where the data used for this analysis was scraped, There are 22 categories whcih are called genre here. A quick look that the no of rows and columns throughout the dataframe will help to choose genres with more words which will in turn help increase the accuracy of this analysis. \n",
    "I am choosing four categories/genres here."
   ]
  },
  {
   "cell_type": "code",
   "execution_count": 12,
   "metadata": {},
   "outputs": [
    {
     "name": "stdout",
     "output_type": "stream",
     "text": [
      "['science_fiction' 'business_finance' 'religion_and_beliefs' 'self_help'\n",
      " 'mystery' 'educational' 'memoir' 'fiction' 'non-fiction' 'health_living'\n",
      " 'other' 'children' 'romance' 'adventure' 'free' 'raw_unpublished_works'\n",
      " 'comics' 'history' 'drama' 'poetry' 'humor' 'erotic']\n"
     ]
    }
   ],
   "source": [
    "print(df.Genre.unique()) ###View all the categories of books in okadabokks.com"
   ]
  },
  {
   "cell_type": "code",
   "execution_count": 13,
   "metadata": {},
   "outputs": [],
   "source": [
    "def print_list():\n",
    "    dash= \"-\"*100\n",
    "    print(dash)\n",
    "    print('{:<1s}{:>40s}{:>50s}'.format(\"Category\",\" #Books\",\"#Total Words in all Blurbs\"))\n",
    "    print (dash)\n",
    "    for i in df.Genre.unique():\n",
    "        no_rows= len(df[df.Genre==i])\n",
    "        no_words= sum(df[df.Genre==i].norm_blurb.map(lambda x: len(x.split())))\n",
    "        print('{:<20s}{:^50d}{:>20d}'.format(i, no_rows,no_words))\n",
    "    print(dash)\n",
    "    print('{:<20s}{:^50d}{:>21d}'.format(\"Total\",len(df),sum(df.norm_blurb.map(lambda x: len(x.split())))))\n",
    "    print(dash)"
   ]
  },
  {
   "cell_type": "code",
   "execution_count": 14,
   "metadata": {},
   "outputs": [
    {
     "name": "stdout",
     "output_type": "stream",
     "text": [
      "----------------------------------------------------------------------------------------------------\n",
      "Category                                  #Books                        #Total Words in all Blurbs\n",
      "----------------------------------------------------------------------------------------------------\n",
      "science_fiction                            307                                       18758\n",
      "business_finance                           570                                       66651\n",
      "religion_and_beliefs                       1299                                     159460\n",
      "self_help                                  1194                                     143485\n",
      "mystery                                    500                                       35135\n",
      "educational                                728                                       67557\n",
      "memoir                                     131                                       13189\n",
      "fiction                                    1727                                     158647\n",
      "non-fiction                                685                                       79750\n",
      "health_living                              107                                       13497\n",
      "other                                      1474                                      38231\n",
      "children                                   935                                       25556\n",
      "romance                                    978                                      105007\n",
      "adventure                                  376                                       41678\n",
      "free                                       281                                       21102\n",
      "raw_unpublished_works                       208                                       14693\n",
      "comics                                     154                                       11636\n",
      "history                                    738                                       27811\n",
      "drama                                      436                                       21109\n",
      "poetry                                     1317                                      47232\n",
      "humor                                      212                                        6962\n",
      "erotic                                      38                                        2391\n",
      "----------------------------------------------------------------------------------------------------\n",
      "Total                                     14395                                     1119537\n",
      "----------------------------------------------------------------------------------------------------\n"
     ]
    }
   ],
   "source": [
    "print_list()"
   ]
  },
  {
   "cell_type": "markdown",
   "metadata": {},
   "source": [
    "From a quick look at the number of words across the genres, You can notice some have more words compared to the others. I decided to go with genres that have a better probability of giving a better/more accurate result. I choose genres with a least a 100,000 of words in their Blurbs. Romance, self_help, religion_and_beliefs, fiction and a data frame containing 2000 random rows from the four of them will be used. I am going to create seperate tables for them. "
   ]
  },
  {
   "cell_type": "code",
   "execution_count": 15,
   "metadata": {},
   "outputs": [],
   "source": [
    "romance_df= df[df.Genre==\"romance\"]\n",
    "selfhelp_df= df[df.Genre==\"self_help\"]\n",
    "religion_df= df[df.Genre==\"religion_and_beliefs\"]\n",
    "fiction_df= df[df.Genre==\"fiction\"]\n",
    "random_df =  df[ (df.Genre== 'romance') | (df.Genre==\"self_help\") | (df.Genre==\"religion_and_beliefs\") | (df.Genre==\"fiction\")]"
   ]
  },
  {
   "cell_type": "code",
   "execution_count": 16,
   "metadata": {},
   "outputs": [
    {
     "data": {
      "text/plain": [
       "2000"
      ]
     },
     "execution_count": 16,
     "metadata": {},
     "output_type": "execute_result"
    }
   ],
   "source": [
    "##Data frame containing 2000 random rows from either romance_df, selfhelp_df, religion_df or fiction_df\n",
    "random_df = random_df.sample(2000)\n",
    "len(random_df)"
   ]
  },
  {
   "cell_type": "code",
   "execution_count": 17,
   "metadata": {},
   "outputs": [
    {
     "data": {
      "text/html": [
       "<div>\n",
       "<style scoped>\n",
       "    .dataframe tbody tr th:only-of-type {\n",
       "        vertical-align: middle;\n",
       "    }\n",
       "\n",
       "    .dataframe tbody tr th {\n",
       "        vertical-align: top;\n",
       "    }\n",
       "\n",
       "    .dataframe thead th {\n",
       "        text-align: right;\n",
       "    }\n",
       "</style>\n",
       "<table border=\"1\" class=\"dataframe\">\n",
       "  <thead>\n",
       "    <tr style=\"text-align: right;\">\n",
       "      <th></th>\n",
       "      <th>Title</th>\n",
       "      <th>Author</th>\n",
       "      <th>Genre</th>\n",
       "      <th>Price</th>\n",
       "      <th>Reads</th>\n",
       "      <th>Ratings</th>\n",
       "      <th>Booklink</th>\n",
       "      <th>Blurb</th>\n",
       "      <th>norm_blurb</th>\n",
       "    </tr>\n",
       "  </thead>\n",
       "  <tbody>\n",
       "    <tr>\n",
       "      <th>10055</th>\n",
       "      <td>ballagazar mace</td>\n",
       "      <td>MS SAIF</td>\n",
       "      <td>romance</td>\n",
       "      <td>200</td>\n",
       "      <td>0</td>\n",
       "      <td>0.0</td>\n",
       "      <td>https://okadabooks.com/book/about/ballagazar_mace/28347</td>\n",
       "      <td>Littafinnan yazo maku ne daga shafin www.hausaebooks.com.ng</td>\n",
       "      <td>littafinnan yazo maku ne daga shafin www hausaebooks com ng</td>\n",
       "    </tr>\n",
       "    <tr>\n",
       "      <th>10909</th>\n",
       "      <td>approved pre marriage maintenance - adult only (18+)</td>\n",
       "      <td>Nwankwo Chima</td>\n",
       "      <td>romance</td>\n",
       "      <td>100</td>\n",
       "      <td>2</td>\n",
       "      <td>0.0</td>\n",
       "      <td>https://okadabooks.com/book/about/approved_pre_marriage_maintenance_-_adult_only_18%2B/15253</td>\n",
       "      <td>Are you planning to get married any time in future? Do you have idea of what pre marriage counseling is all about? Learn what you need to know about pre marriage counseling. This style of counseling is becoming more popular in current times and is usually popularly backed by various religions and governmental agencies. This is primarily to create a better understanding and acceptance of what it entails to be part of a lasting relationship. \\r\\r\\r\\r\\nThe main idea behind this particular exercise is also to limit the possibility of a high divorce rate and to try and keep couple together as a family unit for the betterment of the children.\\r\\r\\r\\r\\nIn This Book, You Will Learn:\\r\\r\\r\\r\\n* Counseling basics\\r\\r\\r\\r\\n* Discussing finances\\r\\r\\r\\r\\n* Discussing children\\r\\r\\r\\r\\n* Discussing religion \\r\\r\\r\\r\\n* Coming up with ground rules \\r\\r\\r\\r\\nYou can't just go on without having this guide, don't wait till tomorrow, download it now!\\r\\r\\r\\r\\n</td>\n",
       "      <td>are you planning to get married any time in future do you have idea of what pre marriage counseling is all about learn what you need to know about pre marriage counseling this style of counseling is becoming more popular in current times and is usually popularly backed by various religions and governmental agencies this is primarily to create a better understanding and acceptance of what it entails to be part of a lasting relationship  the main idea behind this particular exercise is also to limit the possibility of a high divorce rate and to try and keep couple together as a family unit for the betterment of the children in this book you will learn counseling basics discussing finances discussing children discussing religion  coming up with ground rules you cant just go on without having this guide dont wait till tomorrow download it now</td>\n",
       "    </tr>\n",
       "  </tbody>\n",
       "</table>\n",
       "</div>"
      ],
      "text/plain": [
       "                                                      Title         Author  \\\n",
       "10055  ballagazar mace                                       MS SAIF         \n",
       "10909  approved pre marriage maintenance - adult only (18+)  Nwankwo Chima   \n",
       "\n",
       "         Genre  Price  Reads  Ratings  \\\n",
       "10055  romance  200    0      0.0       \n",
       "10909  romance  100    2      0.0       \n",
       "\n",
       "                                                                                           Booklink  \\\n",
       "10055  https://okadabooks.com/book/about/ballagazar_mace/28347                                        \n",
       "10909  https://okadabooks.com/book/about/approved_pre_marriage_maintenance_-_adult_only_18%2B/15253   \n",
       "\n",
       "                                                                                                                                                                                                                                                                                                                                                                                                                                                                                                                                                                                                                                                                                                                                                                                                                                                                                                                                                                                              Blurb  \\\n",
       "10055  Littafinnan yazo maku ne daga shafin www.hausaebooks.com.ng                                                                                                                                                                                                                                                                                                                                                                                                                                                                                                                                                                                                                                                                                                                                                                                                                                                                                                                                    \n",
       "10909  Are you planning to get married any time in future? Do you have idea of what pre marriage counseling is all about? Learn what you need to know about pre marriage counseling. This style of counseling is becoming more popular in current times and is usually popularly backed by various religions and governmental agencies. This is primarily to create a better understanding and acceptance of what it entails to be part of a lasting relationship. \\r\\r\\r\\r\\nThe main idea behind this particular exercise is also to limit the possibility of a high divorce rate and to try and keep couple together as a family unit for the betterment of the children.\\r\\r\\r\\r\\nIn This Book, You Will Learn:\\r\\r\\r\\r\\n* Counseling basics\\r\\r\\r\\r\\n* Discussing finances\\r\\r\\r\\r\\n* Discussing children\\r\\r\\r\\r\\n* Discussing religion \\r\\r\\r\\r\\n* Coming up with ground rules \\r\\r\\r\\r\\nYou can't just go on without having this guide, don't wait till tomorrow, download it now!\\r\\r\\r\\r\\n   \n",
       "\n",
       "                                                                                                                                                                                                                                                                                                                                                                                                                                                                                                                                                                                                                                                                                                                                                                                                                                                                                norm_blurb  \n",
       "10055  littafinnan yazo maku ne daga shafin www hausaebooks com ng                                                                                                                                                                                                                                                                                                                                                                                                                                                                                                                                                                                                                                                                                                                                                                                                                          \n",
       "10909  are you planning to get married any time in future do you have idea of what pre marriage counseling is all about learn what you need to know about pre marriage counseling this style of counseling is becoming more popular in current times and is usually popularly backed by various religions and governmental agencies this is primarily to create a better understanding and acceptance of what it entails to be part of a lasting relationship  the main idea behind this particular exercise is also to limit the possibility of a high divorce rate and to try and keep couple together as a family unit for the betterment of the children in this book you will learn counseling basics discussing finances discussing children discussing religion  coming up with ground rules you cant just go on without having this guide dont wait till tomorrow download it now   "
      ]
     },
     "execution_count": 17,
     "metadata": {},
     "output_type": "execute_result"
    }
   ],
   "source": [
    "random_df.head(2)"
   ]
  },
  {
   "cell_type": "markdown",
   "metadata": {},
   "source": [
    "## Eliminating stop words and creating a dictionary \n",
    "\n",
    "Stop words are the most common words in a language. In the English language, some examples of stop words are the, are, but, and they. Most sentences need to contain stop words in order to be full sentences that make sense. There are words that have no/little influence in semantic relationship. They include regular english expressions. \n",
    "\n",
    "Generally, stop words are removed because they aren’t significant and distort the word frequency analysis. In this analysis, all stop words will be removed."
   ]
  },
  {
   "cell_type": "code",
   "execution_count": 18,
   "metadata": {},
   "outputs": [
    {
     "name": "stdout",
     "output_type": "stream",
     "text": [
      "Number of words in stopwords list: 318\n",
      "\n",
      "50 words on the stopwords list: ['done', 'here', 'cant', 'no', 'as', 'anywhere', 'around', 'there', 'describe', 'forty', 'beyond', 'one', 'thereafter', 'other', 'thick', 'was', 'though', 'after', 'con', 'mine', 'everyone', 'who', 'do', 'afterwards', 'never', 'inc', 'had', 'everything', 'nine', 'detail', 'until', 'for', 'among', 'ourselves', 'fill', 'an', 'hereafter', 'most', 'becoming', 'very', 'keep', 'off', 'four', 'has', 'sincere', 'un', 'third', 'thereby', 'sometimes', 'hundred']\n"
     ]
    }
   ],
   "source": [
    "print('Number of words in stopwords list:', len(stop_words.ENGLISH_STOP_WORDS))\n",
    "print()\n",
    "print('50 words on the stopwords list:', list(stop_words.ENGLISH_STOP_WORDS)[:50])"
   ]
  },
  {
   "cell_type": "code",
   "execution_count": 19,
   "metadata": {},
   "outputs": [],
   "source": [
    "def create_dict(norm_blurb):\n",
    "    norm_blurb.astype(str)\n",
    "    wordlist = [blurb.split(' ') for blurb in norm_blurb] # Create a list of lists (words in each review).\n",
    "    wordlist = [word for blurb in wordlist for word in blurb] # Flatten the wordlist to create one list of all words in the reviews.\n",
    "    vocab_dict = Counter(wordlist) # Create a Counter object (a dictionary of words and their frequencies).    \n",
    "    for word in list(vocab_dict):\n",
    "        if word in stop_words.ENGLISH_STOP_WORDS or word=='':\n",
    "            del vocab_dict[word]\n",
    "    return vocab_dict    \n"
   ]
  },
  {
   "cell_type": "code",
   "execution_count": 20,
   "metadata": {},
   "outputs": [],
   "source": [
    "all_dict= create_dict(df.norm_blurb)\n",
    "romance_dict= create_dict(romance_df.norm_blurb)\n",
    "selfhelp_dict= create_dict(selfhelp_df.norm_blurb)\n",
    "religion_dict= create_dict(religion_df.norm_blurb)\n",
    "fiction_dict = create_dict(fiction_df.norm_blurb)\n",
    "random_dict= create_dict (random_df.norm_blurb)"
   ]
  },
  {
   "cell_type": "code",
   "execution_count": 21,
   "metadata": {},
   "outputs": [
    {
     "data": {
      "text/plain": [
       "1119537"
      ]
     },
     "execution_count": 21,
     "metadata": {},
     "output_type": "execute_result"
    }
   ],
   "source": [
    "sum(df.norm_blurb.map(lambda x: len(x.split())))"
   ]
  },
  {
   "cell_type": "code",
   "execution_count": 22,
   "metadata": {},
   "outputs": [
    {
     "name": "stdout",
     "output_type": "stream",
     "text": [
      "Number of unique words in all genres: 51275\n",
      "Number of unique words in all romance novels:  11828\n",
      "Number of unique words in all self help books:  10880\n",
      "Number of unique words in all religious books:  12104\n",
      "Number of unique words in all fiction novels:  19282\n",
      "Number of unique words in all random:  19802\n"
     ]
    }
   ],
   "source": [
    "print('Number of unique words in all genres:' , len(all_dict))\n",
    "print('Number of unique words in all romance novels: ', len(romance_dict))\n",
    "print('Number of unique words in all self help books: ', len(selfhelp_dict))\n",
    "print('Number of unique words in all religious books: ', len(religion_dict))\n",
    "print('Number of unique words in all fiction novels: ', len(fiction_dict))\n",
    "print('Number of unique words in all random: ', len(random_dict))"
   ]
  },
  {
   "cell_type": "code",
   "execution_count": 23,
   "metadata": {},
   "outputs": [
    {
     "name": "stdout",
     "output_type": "stream",
     "text": [
      "Most commmon words in all genres: [('book', 5923), ('life', 5290), ('da', 3294), ('s', 3030), ('love', 2955), ('god', 2718), ('story', 2467), ('people', 2172), ('time', 1967), ('ya', 1946)] \n",
      "\n",
      "Most commmon words in all romance novels:  [('love', 960), ('life', 416), ('s', 404), ('story', 289), ('da', 282), ('book', 248), ('man', 223), ('romance', 220), ('ta', 201), ('just', 176)] \n",
      "\n",
      "Most commmon words in all self help books:  [('book', 1349), ('life', 1240), ('time', 507), ('people', 426), ('make', 391), ('help', 338), ('success', 311), ('s', 310), ('know', 279), ('god', 268)] \n",
      "\n",
      "Most commmon words in all religious books:  [('god', 1660), ('book', 1330), ('life', 939), ('s', 464), ('church', 446), ('people', 365), ('jesus', 334), ('christ', 329), ('man', 326), ('world', 320)] \n",
      "\n",
      "Most commmon words in all fiction novels:  [('da', 1382), ('ta', 853), ('ya', 767), ('life', 688), ('story', 635), ('s', 551), ('love', 509), ('ba', 374), ('na', 357), ('young', 299)] \n",
      "\n",
      "Most commmon words in all random:  [('book', 1195), ('life', 1192), ('love', 856), ('god', 848), ('da', 786), ('s', 691), ('time', 617), ('ta', 494), ('people', 473), ('story', 456)] \n",
      "\n"
     ]
    }
   ],
   "source": [
    "print('Most commmon words in all genres:' , all_dict.most_common(10), '\\n' ) \n",
    "print('Most commmon words in all romance novels: ', romance_dict.most_common(10), '\\n')\n",
    "print('Most commmon words in all self help books: ', selfhelp_dict.most_common(10), '\\n')\n",
    "print('Most commmon words in all religious books: ', religion_dict.most_common(10), '\\n')\n",
    "print('Most commmon words in all fiction novels: ', fiction_dict.most_common(10), '\\n')\n",
    "print('Most commmon words in all random: ', random_dict.most_common(10), '\\n')"
   ]
  },
  {
   "cell_type": "markdown",
   "metadata": {},
   "source": [
    "### Quick Deductions from the most common words in genres\n",
    "\n",
    "From a quick look around through the 10 most common words in the four categories choosen, some deductions can be made:\n",
    "\n",
    "* There is a lot of repeated words throughout the genres. The drastic difference between the total length of words in the norm_blurb and the Number of unique words explains this.\n",
    "\n",
    "* God, christ,Jesus are the most common 10 words in the religious category. This was somewhat expected. It might also suggest that a lot of religious books are of christian religion.\n",
    "\n",
    "* Success is mentioned a lot in self help books (also known as motivational books) which tend to preach motivate/ give tips for prosperity. \n",
    "\n",
    "* Love is the most common word in the romance genre. This concludes that blurbs are indeed an avid representation of the romance genre.\n",
    "\n",
    "* Some of the words suggest there are many words with conjugtions, example dont's used in the blurb content\n",
    "\n",
    "* There are more lexical terms in the religious books blurb/description which suggests that the average length of the number of words per book might be longer than the others. To look further into this, A function will be created to calculate the average length of words per blurb."
   ]
  },
  {
   "cell_type": "code",
   "execution_count": 24,
   "metadata": {},
   "outputs": [],
   "source": [
    "def mean_length(norm_blurb):\n",
    "    review_lengths = []\n",
    "    for review in norm_blurb:\n",
    "        review_lengths.append(len(review.split(' ')))\n",
    "    return sum(review_lengths)/len(review_lengths)"
   ]
  },
  {
   "cell_type": "code",
   "execution_count": 25,
   "metadata": {},
   "outputs": [
    {
     "name": "stdout",
     "output_type": "stream",
     "text": [
      "Average length of all genre blurb: 81.0944772490448\n",
      "Average length of romance novels blurb: 112.39161554192229\n",
      "Average length of self help books blurb: 126.14405360134003\n",
      "Average length of religious books blurb: 127.85065434949962\n",
      "Average length of fiction genre blurb: 95.51650260567457\n",
      "Average length of random genre blurb: 121.2825\n"
     ]
    }
   ],
   "source": [
    "print('Average length of all genre blurb:', mean_length(df.norm_blurb))\n",
    "print('Average length of romance novels blurb:', mean_length(romance_df.norm_blurb))\n",
    "print('Average length of self help books blurb:', mean_length(selfhelp_df.norm_blurb))\n",
    "print('Average length of religious books blurb:', mean_length(religion_df.norm_blurb))\n",
    "print('Average length of fiction genre blurb:', mean_length(fiction_df.norm_blurb))\n",
    "print('Average length of random genre blurb:', mean_length(random_df.norm_blurb))"
   ]
  },
  {
   "cell_type": "markdown",
   "metadata": {},
   "source": [
    "## Similarity Metrics"
   ]
  },
  {
   "cell_type": "markdown",
   "metadata": {},
   "source": [
    "### <u>Jaccard Similarity <u/>\n",
    "The Jaccard similarity of two sets is the size of the intersection of the sets divided by the size of the union. Here, the relevant sets are the dictionaries for the various blurbs."
   ]
  },
  {
   "cell_type": "code",
   "execution_count": 26,
   "metadata": {},
   "outputs": [
    {
     "name": "stdout",
     "output_type": "stream",
     "text": [
      "{4, 5} {3, 4, 5, 6}\n",
      "Jaccard similarity between A and B is 0.5\n"
     ]
    }
   ],
   "source": [
    "## Quick example:\n",
    "A = {3, 4, 5}\n",
    "B = {4, 5, 6}\n",
    "print(A.intersection(B), A.union(B))\n",
    "print('Jaccard similarity between A and B is', len(A.intersection(B))/ len(A.union(B)))"
   ]
  },
  {
   "cell_type": "markdown",
   "metadata": {},
   "source": [
    "#### Jaccard Function"
   ]
  },
  {
   "cell_type": "code",
   "execution_count": 27,
   "metadata": {},
   "outputs": [],
   "source": [
    "def jaccard_similarity(genre1, genre2):\n",
    "    intersection = len(set(genre1).intersection(set(genre2)))\n",
    "    union = len(set(genre1).union(set(genre2)))\n",
    "    return intersection/union"
   ]
  },
  {
   "cell_type": "markdown",
   "metadata": {},
   "source": [
    "**ROMANCE**\n",
    "\n",
    "This is to find similarities between romance and the other three genres"
   ]
  },
  {
   "cell_type": "code",
   "execution_count": 28,
   "metadata": {},
   "outputs": [],
   "source": [
    "jaccard_similarities = []\n",
    "jaccard_similarities.append(('romance:romance', jaccard_similarity(romance_dict,romance_dict)))\n",
    "jaccard_similarities.append(('romance:fiction', jaccard_similarity(romance_dict, fiction_dict)))\n",
    "jaccard_similarities.append(('romance:self_help', jaccard_similarity(romance_dict, selfhelp_dict)))\n",
    "jaccard_similarities.append(('romance:religion', jaccard_similarity(romance_dict, religion_dict)))\n"
   ]
  },
  {
   "cell_type": "code",
   "execution_count": 29,
   "metadata": {},
   "outputs": [
    {
     "data": {
      "text/plain": [
       "[('romance:romance', 1.0),\n",
       " ('romance:fiction', 0.28452867583302366),\n",
       " ('romance:self_help', 0.2804781775121236),\n",
       " ('romance:religion', 0.2609726539859845)]"
      ]
     },
     "execution_count": 29,
     "metadata": {},
     "output_type": "execute_result"
    }
   ],
   "source": [
    "jaccard_similarities"
   ]
  },
  {
   "cell_type": "markdown",
   "metadata": {},
   "source": [
    "Ranking the similarities\n",
    "Between the selected genres, which are most similar to romance"
   ]
  },
  {
   "cell_type": "code",
   "execution_count": 30,
   "metadata": {},
   "outputs": [
    {
     "data": {
      "text/plain": [
       "[('romance:romance', 1.0),\n",
       " ('romance:fiction', 0.28452867583302366),\n",
       " ('romance:self_help', 0.2804781775121236),\n",
       " ('romance:religion', 0.2609726539859845)]"
      ]
     },
     "execution_count": 30,
     "metadata": {},
     "output_type": "execute_result"
    }
   ],
   "source": [
    "sorted(jaccard_similarities, key=itemgetter(1), reverse=True)"
   ]
  },
  {
   "cell_type": "markdown",
   "metadata": {},
   "source": [
    "**RELIGION**"
   ]
  },
  {
   "cell_type": "code",
   "execution_count": 31,
   "metadata": {},
   "outputs": [],
   "source": [
    "jaccard_similarities = []\n",
    "jaccard_similarities.append(('religion:religion', jaccard_similarity(religion_dict,religion_dict)))\n",
    "jaccard_similarities.append(('religion:fiction', jaccard_similarity(religion_dict, fiction_dict)))\n",
    "jaccard_similarities.append(('religion:self_help', jaccard_similarity(religion_dict, selfhelp_dict)))\n",
    "jaccard_similarities.append(('religion:romance', jaccard_similarity(religion_dict, romance_dict)))\n"
   ]
  },
  {
   "cell_type": "markdown",
   "metadata": {},
   "source": [
    "Ranking the similarities\n",
    "Between the selected genres, which are most similar to religion"
   ]
  },
  {
   "cell_type": "code",
   "execution_count": 32,
   "metadata": {},
   "outputs": [
    {
     "data": {
      "text/plain": [
       "[('religion:religion', 1.0),\n",
       " ('religion:self_help', 0.33861386138613864),\n",
       " ('religion:romance', 0.2609726539859845),\n",
       " ('religion:fiction', 0.24394593951884586)]"
      ]
     },
     "execution_count": 32,
     "metadata": {},
     "output_type": "execute_result"
    }
   ],
   "source": [
    "sorted(jaccard_similarities, key=itemgetter(1), reverse=True)"
   ]
  },
  {
   "cell_type": "markdown",
   "metadata": {},
   "source": [
    "As expected,apart from self similarity, religious books are most similar to self help. Self help in this case are motivational books. This suggests that  success/prosperity/motivation are sometimes linked with religious aspects in motivational books."
   ]
  },
  {
   "cell_type": "markdown",
   "metadata": {},
   "source": [
    "**A little insight can be gotten by looking at the most common blurb words that appear in both religious and self help books**"
   ]
  },
  {
   "cell_type": "code",
   "execution_count": 33,
   "metadata": {},
   "outputs": [],
   "source": [
    "most_common_religion= [word for element in religion_dict.most_common(20) for word in element][::2]\n",
    "most_common_selfhelp= [word for element in selfhelp_dict.most_common(20) for word in element][::2]"
   ]
  },
  {
   "cell_type": "code",
   "execution_count": 34,
   "metadata": {},
   "outputs": [
    {
     "name": "stdout",
     "output_type": "stream",
     "text": [
      "Most commmon words in all self help books:  [('book', 1349), ('life', 1240), ('time', 507), ('people', 426), ('make', 391), ('help', 338), ('success', 311), ('s', 310), ('know', 279), ('god', 268), ('world', 268), ('purpose', 258), ('want', 253), ('just', 241), ('need', 231), ('read', 227), ('way', 223), ('love', 221), ('like', 215), ('work', 207)] \n",
      "\n",
      "Most commmon words in all religious books:  [('god', 1660), ('book', 1330), ('life', 939), ('s', 464), ('church', 446), ('people', 365), ('jesus', 334), ('christ', 329), ('man', 326), ('world', 320), ('christian', 260), ('prayer', 250), ('time', 240), ('way', 230), ('love', 229), ('power', 226), ('word', 223), ('make', 219), ('spirit', 218), ('know', 217)] \n",
      "\n",
      "This are the most common words that are in blurbs of both religious and self_help books\n",
      " {'time', 'world', 'god', 'love', 'book', 'people', 'way', 'life', 'make', 'know', 's'}\n"
     ]
    }
   ],
   "source": [
    "print('Most commmon words in all self help books: ', selfhelp_dict.most_common(20), '\\n')\n",
    "print('Most commmon words in all religious books: ', religion_dict.most_common(20), '\\n')\n",
    "print('This are the most common words that are in blurbs of both religious and self_help books\\n',(set(most_common_religion)).intersection(set(most_common_selfhelp)))"
   ]
  },
  {
   "cell_type": "markdown",
   "metadata": {},
   "source": [
    "### Visualization\n",
    "\n",
    "Visualzation helps with pictorial corelation. Using a donut plot, I am going to visualize similarities with religion. A function will be created so any other similariy visualizations can be checked."
   ]
  },
  {
   "cell_type": "code",
   "execution_count": 35,
   "metadata": {},
   "outputs": [],
   "source": [
    "jaccard= [element for bracket in jaccard_similarities for element in bracket]"
   ]
  },
  {
   "cell_type": "code",
   "execution_count": 36,
   "metadata": {},
   "outputs": [
    {
     "data": {
      "text/plain": [
       "['religion:religion',\n",
       " 1.0,\n",
       " 'religion:fiction',\n",
       " 0.24394593951884586,\n",
       " 'religion:self_help',\n",
       " 0.33861386138613864,\n",
       " 'religion:romance',\n",
       " 0.2609726539859845]"
      ]
     },
     "execution_count": 36,
     "metadata": {},
     "output_type": "execute_result"
    }
   ],
   "source": [
    "jaccard"
   ]
  },
  {
   "cell_type": "code",
   "execution_count": 37,
   "metadata": {},
   "outputs": [
    {
     "data": {
      "text/plain": [
       "[1.0, 0.24394593951884586, 0.33861386138613864, 0.2609726539859845]"
      ]
     },
     "execution_count": 37,
     "metadata": {},
     "output_type": "execute_result"
    }
   ],
   "source": [
    "jaccard_values= jaccard[1::2]\n",
    "jaccard_values"
   ]
  },
  {
   "cell_type": "code",
   "execution_count": 38,
   "metadata": {},
   "outputs": [
    {
     "name": "stdout",
     "output_type": "stream",
     "text": [
      "['religion:religion', 'religion:fiction', 'religion:self_help', 'religion:romance']\n"
     ]
    }
   ],
   "source": [
    "jaccard_key= jaccard[::2]\n",
    "print(jaccard_key)"
   ]
  },
  {
   "cell_type": "code",
   "execution_count": 39,
   "metadata": {},
   "outputs": [],
   "source": [
    "jaccard_df= pd.DataFrame({'Similarity':jaccard_key, 'Score':jaccard_values})"
   ]
  },
  {
   "cell_type": "code",
   "execution_count": 40,
   "metadata": {},
   "outputs": [
    {
     "data": {
      "text/html": [
       "<div>\n",
       "<style scoped>\n",
       "    .dataframe tbody tr th:only-of-type {\n",
       "        vertical-align: middle;\n",
       "    }\n",
       "\n",
       "    .dataframe tbody tr th {\n",
       "        vertical-align: top;\n",
       "    }\n",
       "\n",
       "    .dataframe thead th {\n",
       "        text-align: right;\n",
       "    }\n",
       "</style>\n",
       "<table border=\"1\" class=\"dataframe\">\n",
       "  <thead>\n",
       "    <tr style=\"text-align: right;\">\n",
       "      <th></th>\n",
       "      <th>Similarity</th>\n",
       "      <th>Score</th>\n",
       "    </tr>\n",
       "  </thead>\n",
       "  <tbody>\n",
       "    <tr>\n",
       "      <th>0</th>\n",
       "      <td>religion:religion</td>\n",
       "      <td>1.000000</td>\n",
       "    </tr>\n",
       "    <tr>\n",
       "      <th>2</th>\n",
       "      <td>religion:self_help</td>\n",
       "      <td>0.338614</td>\n",
       "    </tr>\n",
       "    <tr>\n",
       "      <th>3</th>\n",
       "      <td>religion:romance</td>\n",
       "      <td>0.260973</td>\n",
       "    </tr>\n",
       "    <tr>\n",
       "      <th>1</th>\n",
       "      <td>religion:fiction</td>\n",
       "      <td>0.243946</td>\n",
       "    </tr>\n",
       "  </tbody>\n",
       "</table>\n",
       "</div>"
      ],
      "text/plain": [
       "           Similarity     Score\n",
       "0  religion:religion   1.000000\n",
       "2  religion:self_help  0.338614\n",
       "3  religion:romance    0.260973\n",
       "1  religion:fiction    0.243946"
      ]
     },
     "execution_count": 40,
     "metadata": {},
     "output_type": "execute_result"
    }
   ],
   "source": [
    "jaccard_df= jaccard_df.sort_values('Score', ascending= False, )\n",
    "jaccard_df"
   ]
  },
  {
   "cell_type": "code",
   "execution_count": 41,
   "metadata": {},
   "outputs": [],
   "source": [
    "jaccard_df.Score= jaccard_df.Score.astype(float)"
   ]
  },
  {
   "cell_type": "code",
   "execution_count": 42,
   "metadata": {},
   "outputs": [],
   "source": [
    "def jaccard_plot(jaccard_df):\n",
    "    plt.figure(figsize=(10,10))\n",
    "    startingRadius = 0.7 + (0.3* (len(jaccard_df)-1))\n",
    "    \n",
    "    for row, column in jaccard_df.iterrows():\n",
    "        similarity = column['Similarity']\n",
    "        score = round(column['Score'] *100, 2)\n",
    "        textLabel = similarity +'  '+str( score)+'%'\n",
    "        print(startingRadius)\n",
    "    \n",
    "        print(score)\n",
    "\n",
    "        remainingPie = 100 - score\n",
    "\n",
    "        donut_sizes = [remainingPie, score]\n",
    "\n",
    "        plt.text(0.01, startingRadius + 0.07, textLabel, horizontalalignment='center', verticalalignment='center', fontsize= 13)\n",
    "        \n",
    "        plt.pie(donut_sizes, radius=startingRadius, startangle=90, colors=['#d5f6da', '#5cdb6f'],\n",
    "            wedgeprops={\"edgecolor\": \"white\", 'linewidth': 1.5})\n",
    "\n",
    "        startingRadius-=0.3\n",
    "\n",
    "    # equal ensures pie chart is drawn as a circle (equal aspect ratio)\n",
    "    plt.axis('equal')\n",
    "\n",
    "\n",
    "    # create circle and place onto pie chart\n",
    "    circle = plt.Circle(xy=(0, 0), radius=0.35, facecolor='white')\n",
    "\n",
    "    plt.gca().add_artist(circle)\n",
    "    plt.legend(['Not Similar', 'Similar'], fontsize= 14)\n",
    "    plt.savefig('jaccardPlot.jpg')\n",
    "    plt.show()"
   ]
  },
  {
   "cell_type": "code",
   "execution_count": 43,
   "metadata": {},
   "outputs": [
    {
     "name": "stdout",
     "output_type": "stream",
     "text": [
      "1.5999999999999999\n",
      "100.0\n",
      "1.2999999999999998\n",
      "33.86\n",
      "0.9999999999999998\n",
      "26.1\n",
      "0.6999999999999997\n",
      "24.39\n"
     ]
    },
    {
     "data": {
      "image/png": "[encoded data removed]",
      "text/plain": [
       "<Figure size 720x720 with 1 Axes>"
      ]
     },
     "metadata": {},
     "output_type": "display_data"
    },
    {
     "name": "stdout",
     "output_type": "stream",
     "text": [
      "None\n"
     ]
    }
   ],
   "source": [
    "print(jaccard_plot(jaccard_df))"
   ]
  },
  {
   "cell_type": "markdown",
   "metadata": {},
   "source": [
    "---"
   ]
  },
  {
   "cell_type": "markdown",
   "metadata": {},
   "source": [
    "**Hope to hear your ideas on this. Happy Coding!!!**"
   ]
  }
 ],
 "metadata": {
  "kernelspec": {
   "display_name": "Python 3",
   "language": "python",
   "name": "python3"
  },
  "language_info": {
   "codemirror_mode": {
    "name": "ipython",
    "version": 3
   },
   "file_extension": ".py",
   "mimetype": "text/x-python",
   "name": "python",
   "nbconvert_exporter": "python",
   "pygments_lexer": "ipython3",
   "version": "3.7.1"
  }
 },
 "nbformat": 4,
 "nbformat_minor": 2
}
